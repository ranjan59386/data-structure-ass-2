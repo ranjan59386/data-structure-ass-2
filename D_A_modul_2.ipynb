{
  "nbformat": 4,
  "nbformat_minor": 0,
  "metadata": {
    "colab": {
      "provenance": []
    },
    "kernelspec": {
      "name": "python3",
      "display_name": "Python 3"
    },
    "language_info": {
      "name": "python"
    }
  },
  "cells": [
    {
      "cell_type": "markdown",
      "source": [
        "1. write a code to create a string with your name and print it."
      ],
      "metadata": {
        "id": "eCLckk1HkoP5"
      }
    },
    {
      "cell_type": "code",
      "source": [
        "name = \"ranjan kumar\"\n",
        "print(name)"
      ],
      "metadata": {
        "colab": {
          "base_uri": "https://localhost:8080/"
        },
        "id": "dIt88Csak0on",
        "outputId": "097d694e-5c10-4ca9-f176-87189a455281"
      },
      "execution_count": null,
      "outputs": [
        {
          "output_type": "stream",
          "name": "stdout",
          "text": [
            "ranjan kumar\n"
          ]
        }
      ]
    },
    {
      "cell_type": "markdown",
      "source": [
        "2. write a code to find a length of a string \"hello world\""
      ],
      "metadata": {
        "id": "hDmb4AxylRh2"
      }
    },
    {
      "cell_type": "code",
      "source": [
        "str = \"Hello world\"\n",
        "print(len(str))\n"
      ],
      "metadata": {
        "id": "kkAhNYB_lgTW",
        "colab": {
          "base_uri": "https://localhost:8080/"
        },
        "outputId": "0fd3d9ed-86db-45a0-9520-5ffc0cf02f92"
      },
      "execution_count": null,
      "outputs": [
        {
          "output_type": "stream",
          "name": "stdout",
          "text": [
            "11\n"
          ]
        }
      ]
    },
    {
      "cell_type": "markdown",
      "source": [
        "3. write a code to slice three character from the string \"python programing\""
      ],
      "metadata": {
        "id": "oycTGjWAmltf"
      }
    },
    {
      "cell_type": "code",
      "source": [
        "str = \"python programing\"\n",
        "print(str[0:3])"
      ],
      "metadata": {
        "colab": {
          "base_uri": "https://localhost:8080/"
        },
        "id": "ORsv_G6AnILh",
        "outputId": "557b207c-6d1d-4650-9680-19878d7ba38b"
      },
      "execution_count": null,
      "outputs": [
        {
          "output_type": "stream",
          "name": "stdout",
          "text": [
            "pyt\n"
          ]
        }
      ]
    },
    {
      "cell_type": "markdown",
      "source": [
        "4.write a code to convert a string \"hello\" to uppercase"
      ],
      "metadata": {
        "id": "Nb37T4F5nbkV"
      }
    },
    {
      "cell_type": "code",
      "source": [
        "str = \"hello\"\n",
        "print(str.upper())"
      ],
      "metadata": {
        "colab": {
          "base_uri": "https://localhost:8080/"
        },
        "id": "g0LiQPdQn3hu",
        "outputId": "72c3c4a2-29dd-456f-f576-9ae70923c4a7"
      },
      "execution_count": null,
      "outputs": [
        {
          "output_type": "stream",
          "name": "stdout",
          "text": [
            "HELLO\n"
          ]
        }
      ]
    },
    {
      "cell_type": "markdown",
      "source": [
        "5. write a code to to replace the word\"apple\" with \"orange\" in the string \"I like apple\""
      ],
      "metadata": {
        "id": "mYMEGEp8oIXI"
      }
    },
    {
      "cell_type": "code",
      "source": [
        "str = \"I like apple\"\n",
        "print(str.replace(\"apple\",\"orange\"))"
      ],
      "metadata": {
        "colab": {
          "base_uri": "https://localhost:8080/"
        },
        "id": "b_Shgnh0piKQ",
        "outputId": "e5efd4b0-c571-48f8-a422-6895d1800730"
      },
      "execution_count": null,
      "outputs": [
        {
          "output_type": "stream",
          "name": "stdout",
          "text": [
            "I like orange\n"
          ]
        }
      ]
    },
    {
      "cell_type": "markdown",
      "source": [
        "6. write a code to create a list with number 1 to 5 and print it."
      ],
      "metadata": {
        "id": "PeXWgLjIp31A"
      }
    },
    {
      "cell_type": "code",
      "source": [
        "list =[1,2,3,4,5]\n",
        "print(list)"
      ],
      "metadata": {
        "colab": {
          "base_uri": "https://localhost:8080/"
        },
        "id": "HsZ7MkZnqRTD",
        "outputId": "81d593cb-778a-4835-dd06-221614e47c2e"
      },
      "execution_count": null,
      "outputs": [
        {
          "output_type": "stream",
          "name": "stdout",
          "text": [
            "[1, 2, 3, 4, 5]\n"
          ]
        }
      ]
    },
    {
      "cell_type": "markdown",
      "source": [
        "7. write a code to append the number 10 to the list [1,2,3,4]."
      ],
      "metadata": {
        "id": "dOO0jmPEqfon"
      }
    },
    {
      "cell_type": "code",
      "source": [
        "list = [1,2,3,4]\n",
        "print(list)\n",
        "list.append(10)\n",
        "print(list)"
      ],
      "metadata": {
        "colab": {
          "base_uri": "https://localhost:8080/"
        },
        "id": "3hSvSpwMrcu7",
        "outputId": "dc17b1ba-f365-442e-dddd-5dc8f3a636d1"
      },
      "execution_count": null,
      "outputs": [
        {
          "output_type": "stream",
          "name": "stdout",
          "text": [
            "[1, 2, 3, 4]\n",
            "[1, 2, 3, 4, 10]\n"
          ]
        }
      ]
    },
    {
      "cell_type": "markdown",
      "source": [
        "8. write a code to remove the number 3 from the list [1,2,3,4,5]."
      ],
      "metadata": {
        "id": "7aaWwJO7rzNZ"
      }
    },
    {
      "cell_type": "code",
      "source": [
        "list = [1,2,3,4,5]\n",
        "print(list)\n",
        "list.remove(3)\n",
        "print(list)"
      ],
      "metadata": {
        "colab": {
          "base_uri": "https://localhost:8080/"
        },
        "id": "l2JtOaLasLMj",
        "outputId": "5e87afa3-82db-45f1-fedd-91cd2fcc8d09"
      },
      "execution_count": null,
      "outputs": [
        {
          "output_type": "stream",
          "name": "stdout",
          "text": [
            "[1, 2, 3, 4, 5]\n",
            "[1, 2, 4, 5]\n"
          ]
        }
      ]
    },
    {
      "cell_type": "markdown",
      "source": [
        "9. write a code to access second element in the list ['a','b','c','d']"
      ],
      "metadata": {
        "id": "FBFQF0O8sdNV"
      }
    },
    {
      "cell_type": "code",
      "source": [
        "list =['a','b','c','d']\n",
        "print(list[1])"
      ],
      "metadata": {
        "colab": {
          "base_uri": "https://localhost:8080/"
        },
        "id": "8XfzuXu9s5xx",
        "outputId": "506b148d-dc6d-42e3-b5c1-0fb0fbe05bda"
      },
      "execution_count": null,
      "outputs": [
        {
          "output_type": "stream",
          "name": "stdout",
          "text": [
            "b\n"
          ]
        }
      ]
    },
    {
      "cell_type": "markdown",
      "source": [
        "10. write a code to reverse the list [10,20,30,40,50,]"
      ],
      "metadata": {
        "id": "kgzFkTFKtWah"
      }
    },
    {
      "cell_type": "code",
      "source": [
        "list = [10,20,30,40,50]\n",
        "list.reverse()\n",
        "print(list)"
      ],
      "metadata": {
        "colab": {
          "base_uri": "https://localhost:8080/"
        },
        "id": "PABJA6qotpQO",
        "outputId": "d7f1ea70-9e7e-42e9-977c-8ba8f8641122"
      },
      "execution_count": null,
      "outputs": [
        {
          "output_type": "stream",
          "name": "stdout",
          "text": [
            "[50, 40, 30, 20, 10]\n"
          ]
        }
      ]
    },
    {
      "cell_type": "markdown",
      "source": [
        "11. write a code to create a tuple with the element 100 ,200,300 and print it."
      ],
      "metadata": {
        "id": "hgqFDSQ7t9V9"
      }
    },
    {
      "cell_type": "code",
      "source": [
        "tuple=[100,200,300]\n",
        "print(tuple)"
      ],
      "metadata": {
        "colab": {
          "base_uri": "https://localhost:8080/"
        },
        "id": "zNznboWeuaEs",
        "outputId": "036834b1-da36-4053-c9fb-fa8b40fec610"
      },
      "execution_count": null,
      "outputs": [
        {
          "output_type": "stream",
          "name": "stdout",
          "text": [
            "[100, 200, 300]\n"
          ]
        }
      ]
    },
    {
      "cell_type": "markdown",
      "source": [
        "12. write a code to access second to last element in the tuple ('red',green,blue',yellow'."
      ],
      "metadata": {
        "id": "e6Pw02ykumWJ"
      }
    },
    {
      "cell_type": "code",
      "source": [
        "tuple =['red','green','blue','yellow']\n",
        "print(tuple[-2])"
      ],
      "metadata": {
        "colab": {
          "base_uri": "https://localhost:8080/"
        },
        "id": "vXz31MyOwkX9",
        "outputId": "e29fb47e-90be-4d02-b818-b1861f370442"
      },
      "execution_count": null,
      "outputs": [
        {
          "output_type": "stream",
          "name": "stdout",
          "text": [
            "blue\n"
          ]
        }
      ]
    },
    {
      "cell_type": "markdown",
      "source": [
        "13. write a code to find minimum number of the tuple(10,20,5,15).\n"
      ],
      "metadata": {
        "id": "m9LaGG6vxFeo"
      }
    },
    {
      "cell_type": "code",
      "source": [
        "tuple =[10,20,5,15]\n",
        "print(min(tuple))"
      ],
      "metadata": {
        "colab": {
          "base_uri": "https://localhost:8080/"
        },
        "id": "164R6ZINxj8f",
        "outputId": "f1e27c06-3eb4-4771-b03d-68164ca5e043"
      },
      "execution_count": null,
      "outputs": [
        {
          "output_type": "stream",
          "name": "stdout",
          "text": [
            "5\n"
          ]
        }
      ]
    },
    {
      "cell_type": "markdown",
      "source": [
        "14. write a code to find index of the element \"cat\" in the tuple('dog','cat','rabbit')."
      ],
      "metadata": {
        "id": "ZthKPtQdyDPW"
      }
    },
    {
      "cell_type": "code",
      "source": [
        "tuple =['dog','cat','rabbit']\n",
        "print(tuple.index('cat'))"
      ],
      "metadata": {
        "colab": {
          "base_uri": "https://localhost:8080/"
        },
        "id": "wQMiBBFTylWn",
        "outputId": "977fb573-adbd-4b33-9a1d-7aed440d0521"
      },
      "execution_count": null,
      "outputs": [
        {
          "output_type": "stream",
          "name": "stdout",
          "text": [
            "1\n"
          ]
        }
      ]
    },
    {
      "cell_type": "markdown",
      "source": [],
      "metadata": {
        "id": "s-Uu0lAF0Ed6"
      }
    },
    {
      "cell_type": "markdown",
      "source": [
        "15. write a code to create a tuple containing three different fruits and if 'kiwi' is in it."
      ],
      "metadata": {
        "id": "-m_qvMFUzzqD"
      }
    },
    {
      "cell_type": "code",
      "source": [
        "tuple = ['apple','banana','kiwi']\n",
        "if 'kiwi' in tuple:\n",
        "  print(\"kiwi is in the tuple\")\n",
        "else:\n",
        "  print(\"kiwi is not in the tuple\")\n"
      ],
      "metadata": {
        "colab": {
          "base_uri": "https://localhost:8080/"
        },
        "id": "y8T0d2hI0siG",
        "outputId": "a72f8143-ac08-4ee7-93ac-404cde056a89"
      },
      "execution_count": null,
      "outputs": [
        {
          "output_type": "stream",
          "name": "stdout",
          "text": [
            "kiwi is in the tuple\n"
          ]
        }
      ]
    },
    {
      "cell_type": "markdown",
      "source": [
        "16. writre a code to create a set with the element 'a','b','c' and print it."
      ],
      "metadata": {
        "id": "PLECQaFy1zwS"
      }
    },
    {
      "cell_type": "code",
      "source": [
        "set_a= ['a','b','c']\n",
        "print(set_a)"
      ],
      "metadata": {
        "colab": {
          "base_uri": "https://localhost:8080/"
        },
        "id": "wq1aNW9i3PbC",
        "outputId": "846c3a56-3c50-4a28-e922-97e8ebf85ffd"
      },
      "execution_count": null,
      "outputs": [
        {
          "output_type": "stream",
          "name": "stdout",
          "text": [
            "['a', 'b', 'c']\n"
          ]
        }
      ]
    },
    {
      "cell_type": "markdown",
      "source": [
        "17. write a code to  clear all the element in the set {1,2,3,4,5} ."
      ],
      "metadata": {
        "id": "C1VRxrcg34Q5"
      }
    },
    {
      "cell_type": "code",
      "source": [],
      "metadata": {
        "id": "pHui4yQs4ovS"
      },
      "execution_count": null,
      "outputs": []
    },
    {
      "cell_type": "code",
      "source": [
        "set_a = {1, 2, 3, 4, 5}\n",
        "print(set_a)\n",
        "print(\"clear the set\")\n",
        "set_a.clear()\n",
        "set_a\n"
      ],
      "metadata": {
        "id": "iqJaMKgt4SI1",
        "colab": {
          "base_uri": "https://localhost:8080/"
        },
        "outputId": "c2bf4475-66da-4312-9520-e6ecae830860"
      },
      "execution_count": null,
      "outputs": [
        {
          "output_type": "stream",
          "name": "stdout",
          "text": [
            "{1, 2, 3, 4, 5}\n",
            "clear the set\n"
          ]
        },
        {
          "output_type": "execute_result",
          "data": {
            "text/plain": [
              "set()"
            ]
          },
          "metadata": {},
          "execution_count": 36
        }
      ]
    },
    {
      "cell_type": "markdown",
      "source": [
        "18. write a code to remove the element 4 from the set{1,2,3,4}."
      ],
      "metadata": {
        "id": "_X1keCz65XQJ"
      }
    },
    {
      "cell_type": "code",
      "source": [
        "set_a= {1,2,3,4}\n",
        "print(set_a)\n",
        "set_a.remove(4)\n",
        "print(set_a)"
      ],
      "metadata": {
        "colab": {
          "base_uri": "https://localhost:8080/"
        },
        "id": "sRO5wSLT5u8h",
        "outputId": "168df854-b2f4-4377-ec84-f1665cdb85bb"
      },
      "execution_count": null,
      "outputs": [
        {
          "output_type": "stream",
          "name": "stdout",
          "text": [
            "{1, 2, 3, 4}\n",
            "{1, 2, 3}\n"
          ]
        }
      ]
    },
    {
      "cell_type": "markdown",
      "source": [
        "19. write the code to find the union of the two sets{1,2,3} and {3,4,5}"
      ],
      "metadata": {
        "id": "ZtZzrcJ56E0I"
      }
    },
    {
      "cell_type": "code",
      "source": [
        "set_a={1,2,3}\n",
        "set_b={3,4,5}\n",
        "print(set_a.union(set_b))"
      ],
      "metadata": {
        "colab": {
          "base_uri": "https://localhost:8080/"
        },
        "id": "lmUvLA9B6luC",
        "outputId": "03ef305b-d7b5-4c2d-d10c-06f5032c10e6"
      },
      "execution_count": null,
      "outputs": [
        {
          "output_type": "stream",
          "name": "stdout",
          "text": [
            "{1, 2, 3, 4, 5}\n"
          ]
        }
      ]
    },
    {
      "cell_type": "markdown",
      "source": [
        "20. write the code to find  intersection of two sets {1,2,3} and {2,3,4}."
      ],
      "metadata": {
        "id": "LHVNLsfq63AH"
      }
    },
    {
      "cell_type": "code",
      "source": [
        "set_a={1,2,3}\n",
        "set_b={2,3,4}\n",
        "print(set_a.intersection(set_b))"
      ],
      "metadata": {
        "colab": {
          "base_uri": "https://localhost:8080/"
        },
        "id": "ooep2F5l7cfH",
        "outputId": "a4919539-1a66-4240-d257-64153074d165"
      },
      "execution_count": null,
      "outputs": [
        {
          "output_type": "stream",
          "name": "stdout",
          "text": [
            "{2, 3}\n"
          ]
        }
      ]
    },
    {
      "cell_type": "markdown",
      "source": [
        "21. write a code to create dictionary with the keys 'name','age',and 'city',and print it"
      ],
      "metadata": {
        "id": "VKacoxob75J3"
      }
    },
    {
      "cell_type": "code",
      "source": [
        "my_dict ={}\n",
        "my_dict['name'] = input(\"Enter your name: \")\n",
        "my_dict['age'] = int(input(\"Enter your age: \"))\n",
        "my_dict['city'] = input(\"Enter your city: \")\n",
        "my_dict\n"
      ],
      "metadata": {
        "colab": {
          "base_uri": "https://localhost:8080/"
        },
        "id": "RulSEPqF8a-t",
        "outputId": "a0c442c4-9f0a-4f8a-9163-66de3e670e24"
      },
      "execution_count": null,
      "outputs": [
        {
          "name": "stdout",
          "output_type": "stream",
          "text": [
            "Enter your name: ranjan\n",
            "Enter your age: 23\n",
            "Enter your city: haryana\n"
          ]
        },
        {
          "output_type": "execute_result",
          "data": {
            "text/plain": [
              "{'name': 'ranjan', 'age': 23, 'city': 'haryana'}"
            ]
          },
          "metadata": {},
          "execution_count": 48
        }
      ]
    },
    {
      "cell_type": "markdown",
      "source": [
        "22. write a code to add a new key value pair \"country\",\"usa\" to the dictinary {'name':'alice','age':30}."
      ],
      "metadata": {
        "id": "lJDqvd-R-Nkj"
      }
    },
    {
      "cell_type": "code",
      "source": [
        "my_dict = {'name':'alice','age':30}\n",
        "my_dict['country'] = 'usa'\n",
        "my_dict"
      ],
      "metadata": {
        "colab": {
          "base_uri": "https://localhost:8080/"
        },
        "id": "rRH2flzK_dLM",
        "outputId": "0be55704-1d85-4ea0-9154-aa6424ecd6a2"
      },
      "execution_count": null,
      "outputs": [
        {
          "output_type": "execute_result",
          "data": {
            "text/plain": [
              "{'name': 'alice', 'age': 30, 'country': 'usa'}"
            ]
          },
          "metadata": {},
          "execution_count": 50
        }
      ]
    },
    {
      "cell_type": "markdown",
      "source": [
        "23. write a codeto access value  associated with the key \"name\" in the dictionary{'name':'alice','age':30}."
      ],
      "metadata": {
        "id": "DVugcSsi_xKe"
      }
    },
    {
      "cell_type": "code",
      "source": [
        "my_dict ={'name':'alice','age':30}\n",
        "print(my_dict['name'])\n"
      ],
      "metadata": {
        "colab": {
          "base_uri": "https://localhost:8080/"
        },
        "id": "5SmNomzbA7ec",
        "outputId": "8ecb99ab-cb7e-41fc-945a-20a88e39a7f0"
      },
      "execution_count": null,
      "outputs": [
        {
          "output_type": "stream",
          "name": "stdout",
          "text": [
            "alice\n"
          ]
        }
      ]
    },
    {
      "cell_type": "markdown",
      "source": [
        "24. write a code to remove the age in the dictionary{'name':'Bob','age':22,'city':'new york'}."
      ],
      "metadata": {
        "id": "eLhOKu45BWXk"
      }
    },
    {
      "cell_type": "code",
      "source": [
        "my_dict={'name':'Bob','age':22,'city':'new york'}\n",
        "del my_dict['age']\n",
        "my_dict"
      ],
      "metadata": {
        "colab": {
          "base_uri": "https://localhost:8080/"
        },
        "id": "-TbGNNs6CR7C",
        "outputId": "84df4d12-0735-468e-fc84-b9e215805794"
      },
      "execution_count": null,
      "outputs": [
        {
          "output_type": "execute_result",
          "data": {
            "text/plain": [
              "{'name': 'Bob', 'city': 'new york'}"
            ]
          },
          "metadata": {},
          "execution_count": 55
        }
      ]
    },
    {
      "cell_type": "markdown",
      "source": [
        "25. write a code to check if the key \"city\" exists in the dictionary {'name':'alice','city':'paris'}."
      ],
      "metadata": {
        "id": "cIlAQv2gDlHE"
      }
    },
    {
      "cell_type": "code",
      "source": [
        "my_dict = {'name':'alice','city':'paris'}\n",
        "if 'city' in my_dict:\n",
        "  print(\"Key 'city' exists in the dictionary\")\n",
        "else:\n",
        "  print(\"Key 'city' does not exist in the dictionary\")\n"
      ],
      "metadata": {
        "colab": {
          "base_uri": "https://localhost:8080/"
        },
        "id": "w66a7unwCcH4",
        "outputId": "cda56b78-7300-4662-f524-6af0f2939d6e"
      },
      "execution_count": null,
      "outputs": [
        {
          "output_type": "stream",
          "name": "stdout",
          "text": [
            "Key 'city' exists in the dictionary\n"
          ]
        }
      ]
    },
    {
      "cell_type": "markdown",
      "source": [
        "26. write a code to create list , tuple and dictionary and print them all"
      ],
      "metadata": {
        "id": "Q_a-eJ0ZD6bY"
      }
    },
    {
      "cell_type": "code",
      "source": [
        "my_list={1,2,3,4,5}\n",
        "print(my_list)\n",
        "\n",
        "my_tuple=(1,2,3,4,5)\n",
        "print(my_tuple)\n",
        "\n",
        "my_dict={'name':'ranjan','age':23}\n",
        "print(my_dict)"
      ],
      "metadata": {
        "colab": {
          "base_uri": "https://localhost:8080/"
        },
        "id": "2bpB8J-kExdc",
        "outputId": "f966e521-71fc-42e7-c23f-97ee803c0896"
      },
      "execution_count": null,
      "outputs": [
        {
          "output_type": "stream",
          "name": "stdout",
          "text": [
            "{1, 2, 3, 4, 5}\n",
            "(1, 2, 3, 4, 5)\n",
            "{'name': 'ranjan', 'age': 23}\n"
          ]
        }
      ]
    },
    {
      "cell_type": "markdown",
      "source": [
        "27. write a code to create a list of 5 random numbers between 1 and 100,sort it in ascending order and print the result (replaced)."
      ],
      "metadata": {
        "id": "JFCjAL7wFNEy"
      }
    },
    {
      "cell_type": "code",
      "source": [
        "import random\n",
        "\n",
        "random_numbers = [random.randint(1, 100) for _ in range(5)]\n",
        "random_numbers.sort()\n",
        "random_numbers"
      ],
      "metadata": {
        "colab": {
          "base_uri": "https://localhost:8080/"
        },
        "id": "j5YsnMX2Gjj7",
        "outputId": "061537b6-ecec-4929-b266-13aa74d31611"
      },
      "execution_count": null,
      "outputs": [
        {
          "output_type": "execute_result",
          "data": {
            "text/plain": [
              "[13, 25, 71, 83, 98]"
            ]
          },
          "metadata": {},
          "execution_count": 60
        }
      ]
    },
    {
      "cell_type": "markdown",
      "source": [
        "28. write a code to create a list with the string and print the element at the third index."
      ],
      "metadata": {
        "id": "1Ew41jAlG2lK"
      }
    },
    {
      "cell_type": "code",
      "source": [
        "list = [\"ranjan\",\"rahul\",\"nikhil\",\"arya\",\"naveen\"]\n",
        "print(list[3])\n"
      ],
      "metadata": {
        "colab": {
          "base_uri": "https://localhost:8080/"
        },
        "id": "fE8U-bg6HNbV",
        "outputId": "af1a1203-c7a7-4ab7-8114-68c65b631183"
      },
      "execution_count": null,
      "outputs": [
        {
          "output_type": "stream",
          "name": "stdout",
          "text": [
            "arya\n"
          ]
        }
      ]
    },
    {
      "cell_type": "markdown",
      "source": [
        "29. write a code to combine two dictionaries into one and print the result."
      ],
      "metadata": {
        "id": "1jkBMZruHy6t"
      }
    },
    {
      "cell_type": "code",
      "source": [],
      "metadata": {
        "id": "oTjPv_IYIiz7"
      },
      "execution_count": null,
      "outputs": []
    },
    {
      "cell_type": "code",
      "source": [
        "dict1 = {'a': 1, 'b': 2}\n",
        "dict2 = {'c': 3, 'd': 4}\n",
        "\n",
        "combined_dict = dict1.copy()\n",
        "combined_dict.update(dict2)\n",
        "\n",
        "combined_dict\n"
      ],
      "metadata": {
        "colab": {
          "base_uri": "https://localhost:8080/"
        },
        "id": "gn6S7uYHIPwo",
        "outputId": "8fe94876-3f94-47a3-ebbb-475fbb4c1701"
      },
      "execution_count": null,
      "outputs": [
        {
          "output_type": "execute_result",
          "data": {
            "text/plain": [
              "{'a': 1, 'b': 2, 'c': 3, 'd': 4}"
            ]
          },
          "metadata": {},
          "execution_count": 64
        }
      ]
    },
    {
      "cell_type": "markdown",
      "source": [
        "30. write a code to convert a list of strings into a set"
      ],
      "metadata": {
        "id": "j-byiFi7Izue"
      }
    },
    {
      "cell_type": "code",
      "source": [],
      "metadata": {
        "id": "jgDTtorwJZnf"
      },
      "execution_count": null,
      "outputs": []
    },
    {
      "cell_type": "code",
      "source": [
        "string_list = [\"apple\", \"banana\", \"cherry\", \"apple\", \"banana\"]\n",
        "\n",
        "string_set = set(string_list)\n",
        "\n",
        "string_set\n"
      ],
      "metadata": {
        "id": "ocBP2RZ2JMhR",
        "colab": {
          "base_uri": "https://localhost:8080/"
        },
        "outputId": "52be363b-1ece-4b0b-909c-44ef9962eeff"
      },
      "execution_count": null,
      "outputs": [
        {
          "output_type": "execute_result",
          "data": {
            "text/plain": [
              "{'apple', 'banana', 'cherry'}"
            ]
          },
          "metadata": {},
          "execution_count": 65
        }
      ]
    }
  ]
}